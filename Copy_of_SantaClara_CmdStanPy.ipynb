{
  "nbformat": 4,
  "nbformat_minor": 0,
  "metadata": {
    "colab": {
      "name": "Copy of SantaClara_CmdStanPy.ipynb",
      "provenance": [],
      "collapsed_sections": [],
      "authorship_tag": "ABX9TyNh1NuXuIIVzc5g9FQpoq1m",
      "include_colab_link": true
    },
    "kernelspec": {
      "name": "python3",
      "display_name": "Python 3"
    }
  },
  "cells": [
    {
      "cell_type": "markdown",
      "metadata": {
        "id": "view-in-github",
        "colab_type": "text"
      },
      "source": [
        "<a href=\"https://colab.research.google.com/github/mitzimorris/prophet/blob/master/Copy_of_SantaClara_CmdStanPy.ipynb\" target=\"_parent\"><img src=\"https://colab.research.google.com/assets/colab-badge.svg\" alt=\"Open In Colab\"/></a>"
      ]
    },
    {
      "cell_type": "markdown",
      "metadata": {
        "id": "PRpyEjTGMvGJ",
        "colab_type": "text"
      },
      "source": [
        "# Simple Bayesian analysis inference of coronavirus infection rate from the Stanford study in Santa Clara county\n",
        "\n",
        "This Google Colab Python notebook provides the models and data discussed here:  [Simple Bayesian analysis inference of coronavirus infection rate from the Stanford study in Santa Clara county](https://statmodeling.stat.columbia.edu/2020/05/01/simple-bayesian-analysis-inference-of-coronavirus-infection-rate-from-the-stanford-study-in-santa-clara-county/)\n",
        "\n",
        "It uses CmdStanPy to compile and fit the model.  \n",
        "\n",
        "\n",
        "#### First up, a little admin to get the latest CmdStanPy and CmdStan installed on this instance.\n"
      ]
    },
    {
      "cell_type": "code",
      "metadata": {
        "id": "_PhuUXhaLk2o",
        "colab_type": "code",
        "colab": {}
      },
      "source": [
        "# Load packages used in this notebook\n",
        "import os\n",
        "import json\n",
        "import shutil\n",
        "import urllib.request\n",
        "import pandas as pd"
      ],
      "execution_count": 0,
      "outputs": []
    },
    {
      "cell_type": "code",
      "metadata": {
        "id": "XjVPUpT7U5DA",
        "colab_type": "code",
        "colab": {}
      },
      "source": [
        "# Please use the latest version of CmdStanPy\n",
        "pip install --upgrade cmdstanpy"
      ],
      "execution_count": 0,
      "outputs": []
    },
    {
      "cell_type": "code",
      "metadata": {
        "id": "csMJH1d6Euvg",
        "colab_type": "code",
        "colab": {}
      },
      "source": [
        "# Install pre-built CmdStan binary\n",
        "# (faster than compiling from source via install_cmdstan() function)\n",
        "tgz_file = 'colab-cmdstan-2.23.0.tar.gz'\n",
        "tgz_url = 'https://github.com/stan-dev/cmdstan/releases/download/v2.23.0/colab-cmdstan-2.23.0.tar.gz'\n",
        "if not os.path.exists(tgz_file):\n",
        "    urllib.request.urlretrieve(tgz_url, tgz_file)\n",
        "    shutil.unpack_archive(tgz_file)"
      ],
      "execution_count": 0,
      "outputs": []
    },
    {
      "cell_type": "code",
      "metadata": {
        "id": "poxkQLCAFYt2",
        "colab_type": "code",
        "colab": {}
      },
      "source": [
        "# Specify CmdStan location via environment variable\n",
        "os.environ['CMDSTAN'] = './cmdstan-2.23.0'\n",
        "# Check CmdStan path\n",
        "from cmdstanpy import CmdStanModel, cmdstan_path\n",
        "cmdstan_path()"
      ],
      "execution_count": 0,
      "outputs": []
    },
    {
      "cell_type": "markdown",
      "metadata": {
        "id": "yQS1YxCjOAIk",
        "colab_type": "text"
      },
      "source": [
        "#### Upload models and data from GitHub\n",
        "\n",
        "The models and data are available on the Stan GitHub repo https://github.com/stan-dev/example-models/tree/master/jupyter/covid-inf-rate"
      ]
    },
    {
      "cell_type": "code",
      "metadata": {
        "id": "p471RApxEBtR",
        "colab_type": "code",
        "colab": {}
      },
      "source": [
        "# Upload models and data onto this instance (raw github content files)\n",
        "urllib.request.urlretrieve('https://raw.githubusercontent.com/stan-dev/example-models/master/jupyter/covid-inf-rate/data/santa_clara_all.data.json', 'santa_clara_all.data.json')\n",
        "urllib.request.urlretrieve('https://raw.githubusercontent.com/stan-dev/example-models/master/jupyter/covid-inf-rate/data/santa_clara_apr_11.data.json', 'santa_clara_apr_11.data.json')\n",
        "urllib.request.urlretrieve('https://raw.githubusercontent.com/stan-dev/example-models/master/jupyter/covid-inf-rate/data/santa_clara_apr_27.data.json', 'santa_clara_apr_27.data.json')\n",
        "urllib.request.urlretrieve('https://raw.githubusercontent.com/stan-dev/example-models/master/jupyter/covid-inf-rate/stan/pool_sens_spec.stan', 'pool_sens_spec.stan')\n",
        "urllib.request.urlretrieve('https://raw.githubusercontent.com/stan-dev/example-models/master/jupyter/covid-inf-rate/stan/hier_sens_spec.stan', 'hier_sens_spec.stan')\n",
        "urllib.request.urlretrieve('https://raw.githubusercontent.com/stan-dev/example-models/master/jupyter/covid-inf-rate/stan/hier_sens_spec_offset_mult.stan', 'hier_sens_spec_offset_mult.stan')\n",
        "!ls\n",
        "!echo \"\"\n",
        "!echo \"santa_clara_apr_11.data.json:\"\n",
        "!cat santa_clara_apr_11.data.json"
      ],
      "execution_count": 0,
      "outputs": []
    },
    {
      "cell_type": "markdown",
      "metadata": {
        "id": "GMUDMOh_WvQD",
        "colab_type": "text"
      },
      "source": [
        "In the Santa Clara study, of the 3330 people tested (`n_sample`), 50 test results were positive (`y_sample`).  The first version of the paper was released on April 11th, and used specificity data from two studies and sensitivity data from two other studies."
      ]
    },
    {
      "cell_type": "code",
      "metadata": {
        "id": "vjcmosNlULIe",
        "colab_type": "code",
        "colab": {}
      },
      "source": [
        "apr_11 = {}\n",
        "with open('santa_clara_apr_11.data.json') as json_file:\n",
        "    apr_11 = json.load(json_file)\n",
        "apr_11"
      ],
      "execution_count": 0,
      "outputs": []
    },
    {
      "cell_type": "markdown",
      "metadata": {
        "id": "2vOK9GRzYK7J",
        "colab_type": "text"
      },
      "source": [
        "### Simple Model\n",
        "\n",
        "The first Stan model in this blogpost is called \"santaclara.stan\".  It a complete pooling model, therefore we'll call it \"pool_sens_spec.stan\"."
      ]
    },
    {
      "cell_type": "code",
      "metadata": {
        "id": "WsWXdSUWU9Pt",
        "colab_type": "code",
        "colab": {}
      },
      "source": [
        "!cat pool_sens_spec.stan"
      ],
      "execution_count": 0,
      "outputs": []
    },
    {
      "cell_type": "markdown",
      "metadata": {
        "id": "lul55yiNY6IF",
        "colab_type": "text"
      },
      "source": [
        "We use CmdStanPy to compile and fit the model to the data."
      ]
    },
    {
      "cell_type": "code",
      "metadata": {
        "id": "N6WxoNTtY0oE",
        "colab_type": "code",
        "colab": {}
      },
      "source": [
        "pool_model = CmdStanModel(stan_file='pool_sens_spec.stan')\n",
        "apr_11_fit = pool_model.sample(data=apr_11)"
      ],
      "execution_count": 0,
      "outputs": []
    },
    {
      "cell_type": "markdown",
      "metadata": {
        "id": "JITCl_Ytazse",
        "colab_type": "text"
      },
      "source": [
        "CmdStanPy reports the central 90% interval, (following McElreath, 2016).  Given the April 11th dataset, this interval is [0.002 - 0.018], thus the data are consistent with an underlying infection rate of between 0 and 2%."
      ]
    },
    {
      "cell_type": "code",
      "metadata": {
        "id": "ZpJ9hFNeZSwW",
        "colab_type": "code",
        "colab": {}
      },
      "source": [
        "apr_11_fit.summary().round(decimals=3).iloc[1:4,:]"
      ],
      "execution_count": 0,
      "outputs": []
    },
    {
      "cell_type": "code",
      "metadata": {
        "id": "fXFR7goCZiRC",
        "colab_type": "code",
        "colab": {}
      },
      "source": [
        "apr_11_drawset = apr_11_fit.get_drawset()\n",
        "apr_11_drawset.p.plot.hist()"
      ],
      "execution_count": 0,
      "outputs": []
    },
    {
      "cell_type": "markdown",
      "metadata": {
        "id": "1V8-wjzPd_7y",
        "colab_type": "text"
      },
      "source": [
        "We repeat this procedure with the data from the April 27th version of the study, which has specificity data from 13 studies and sensitivity data from 3 studies.  Again, we pool the results from all studies."
      ]
    },
    {
      "cell_type": "code",
      "metadata": {
        "id": "HOHzdMrwZldS",
        "colab_type": "code",
        "colab": {}
      },
      "source": [
        "apr_27 = {}\n",
        "with open('santa_clara_apr_11.data.json') as json_file:\n",
        "    apr_27 = json.load(json_file)\n",
        "apr_27"
      ],
      "execution_count": 0,
      "outputs": []
    },
    {
      "cell_type": "code",
      "metadata": {
        "id": "I-UGkEK1d-6j",
        "colab_type": "code",
        "colab": {}
      },
      "source": [
        "apr_27_fit = pool_model.sample(data=apr_27)\n",
        "apr_27_fit.summary().round(decimals=3).iloc[1:4,:]\n"
      ],
      "execution_count": 0,
      "outputs": []
    },
    {
      "cell_type": "code",
      "metadata": {
        "id": "1htb7q9Oeq8s",
        "colab_type": "code",
        "colab": {}
      },
      "source": [
        "apr_27_drawset = apr_27_fit.get_drawset()\n",
        "apr_27_drawset.p.plot.hist()"
      ],
      "execution_count": 0,
      "outputs": []
    },
    {
      "cell_type": "markdown",
      "metadata": {
        "id": "XM8aWSpUfCy0",
        "colab_type": "text"
      },
      "source": [
        "### Hierarchical Model\n",
        "\n",
        "The hierarchical model allows the sensitivities and specificities to vary across studies.\n",
        "In the blogpost is called \"santaclara_hier.stan\".  We'll call it \"hier_sens_spec.stan\""
      ]
    },
    {
      "cell_type": "code",
      "metadata": {
        "id": "j_kxzeklezvI",
        "colab_type": "code",
        "colab": {}
      },
      "source": [
        "!cat hier_sens_spec.stan"
      ],
      "execution_count": 0,
      "outputs": []
    },
    {
      "cell_type": "markdown",
      "metadata": {
        "id": "0FstmbADhwDl",
        "colab_type": "text"
      },
      "source": [
        "__Note__: this model has the suggested tight prior on `sigma_sens` in order to compensate for only having data from 3 studies to fit."
      ]
    },
    {
      "cell_type": "markdown",
      "metadata": {
        "id": "dkEXV2VhgIwf",
        "colab_type": "text"
      },
      "source": [
        "For this model, the data is broken out by study.  We copied this data out of page 19 of the report and munged it into the forms required by the model's data block variable definitions."
      ]
    },
    {
      "cell_type": "code",
      "metadata": {
        "id": "z1WhQ8K3f6tP",
        "colab_type": "code",
        "colab": {}
      },
      "source": [
        "hier_data = {}\n",
        "with open('santa_clara_all.data.json') as json_file:\n",
        "    hier_data = json.load(json_file)\n",
        "hier_data"
      ],
      "execution_count": 0,
      "outputs": []
    },
    {
      "cell_type": "code",
      "metadata": {
        "id": "yRkkjERag-_J",
        "colab_type": "code",
        "colab": {}
      },
      "source": [
        "hier_model = CmdStanModel(stan_file='hier_sens_spec.stan')\n",
        "hier_fit = hier_model.sample(data=hier_data, adapt_delta=0.98)"
      ],
      "execution_count": 0,
      "outputs": []
    },
    {
      "cell_type": "code",
      "metadata": {
        "id": "qCOV7poz_nSM",
        "colab_type": "code",
        "colab": {}
      },
      "source": [
        "hier_fit.diagnose()"
      ],
      "execution_count": 0,
      "outputs": []
    },
    {
      "cell_type": "code",
      "metadata": {
        "id": "srm_Q95ahPlZ",
        "colab_type": "code",
        "colab": {}
      },
      "source": [
        "hier_fit.summary().loc[['p', 'mu_spec', 'sigma_spec', 'mu_sens', 'sigma_sens'],].round(decimals=3)"
      ],
      "execution_count": 0,
      "outputs": []
    },
    {
      "cell_type": "markdown",
      "metadata": {
        "id": "sAD1MVohig5F",
        "colab_type": "text"
      },
      "source": [
        "This central 90% interval is [0.005 - 0.022]."
      ]
    },
    {
      "cell_type": "code",
      "metadata": {
        "id": "df24B145heQY",
        "colab_type": "code",
        "colab": {}
      },
      "source": [
        "hier_drawset = hier_fit.get_drawset()\n",
        "hier_drawset.p.plot.hist(bins=20,range=(0.0,0.03),density=True)"
      ],
      "execution_count": 0,
      "outputs": []
    },
    {
      "cell_type": "markdown",
      "metadata": {
        "id": "JXtqYRjPi-V1",
        "colab_type": "text"
      },
      "source": [
        "Bob Carpenter provided a second version of the hierarchical model in which the parameters for the item-level specificities and sensitivies are specified using the Stan language \"offset, multiplier\" syntax which allows for affine transforms on real-valued variables.  See the Stan Language Reference Manual, chapter [Univariate Data Types and Variable Declarations](https://mc-stan.org/docs/2_23/reference-manual/univariate-data-types-and-variable-declarations.html) for further details. We call this model \"hier_sens_spec_offset_mult.stan\"\n"
      ]
    },
    {
      "cell_type": "code",
      "metadata": {
        "id": "4WN9IQVTi7sf",
        "colab_type": "code",
        "colab": {}
      },
      "source": [
        "!cat hier_sens_spec_offset_mult.stan"
      ],
      "execution_count": 0,
      "outputs": []
    },
    {
      "cell_type": "code",
      "metadata": {
        "id": "Q6nNFkrFlJ3u",
        "colab_type": "code",
        "colab": {}
      },
      "source": [
        "hier_model_v2 = CmdStanModel(stan_file='hier_sens_spec_offset_mult.stan')\n",
        "hier_fit_v2 = hier_model_v2.sample(data=hier_data, adapt_delta=0.98)\n",
        "hier_fit_v2.diagnose()"
      ],
      "execution_count": 0,
      "outputs": []
    },
    {
      "cell_type": "code",
      "metadata": {
        "id": "K4pUuA7e_zpl",
        "colab_type": "code",
        "colab": {}
      },
      "source": [
        "hier_fit_v2.summary().loc[['p', 'mu_logit_spec', 'sigma_logit_spec', 'mu_logit_sens', 'sigma_logit_sens'],].round(decimals=3)"
      ],
      "execution_count": 0,
      "outputs": []
    },
    {
      "cell_type": "code",
      "metadata": {
        "id": "xJ9tfSTBladB",
        "colab_type": "code",
        "colab": {}
      },
      "source": [
        "hier_drawset_v2 = hier_fit_v2.get_drawset()\n",
        "hier_drawset_v2.p.plot.hist(bins=20,range=(0.0,0.03),density=True)"
      ],
      "execution_count": 0,
      "outputs": []
    },
    {
      "cell_type": "code",
      "metadata": {
        "id": "nZh7IS4fl8VM",
        "colab_type": "code",
        "colab": {}
      },
      "source": [
        ""
      ],
      "execution_count": 0,
      "outputs": []
    }
  ]
}